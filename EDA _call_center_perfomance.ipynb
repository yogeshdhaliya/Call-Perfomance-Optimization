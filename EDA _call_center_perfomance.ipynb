{
 "cells": [
  {
   "cell_type": "markdown",
   "metadata": {},
   "source": [
    "* Name: Yogesh Dhaliya\n",
    "* Phone no: 6350214104\n",
    "* E-mail: yogeshdhaliyaa@gmail.com\n",
    "* Linkedin: https://www.linkedin.com/in/yogeshdhaliyaa/\n",
    "* Github: https://github.com/yogeshdhaliya\n",
    "* Portfolio: https://yogeshdhaliya.github.io/yogeshportfolio.github.io/"
   ]
  },
  {
   "cell_type": "markdown",
   "metadata": {},
   "source": [
    "# Call Center Performance Optimization "
   ]
  },
  {
   "cell_type": "markdown",
   "metadata": {},
   "source": [
    "Importing necessary libraries"
   ]
  },
  {
   "cell_type": "code",
   "execution_count": 1,
   "metadata": {},
   "outputs": [],
   "source": [
    "import numpy as np\n",
    "import pandas as pd\n",
    "import matplotlib.pyplot as plt\n",
    "%matplotlib inline\n",
    "import seaborn as sns"
   ]
  },
  {
   "cell_type": "markdown",
   "metadata": {},
   "source": [
    "### Task 1: Data Exploration"
   ]
  },
  {
   "cell_type": "markdown",
   "metadata": {},
   "source": [
    "1. Load the dataset into your preferred data analysis tool (e.g., Python, R, Excel)"
   ]
  },
  {
   "cell_type": "code",
   "execution_count": 2,
   "metadata": {},
   "outputs": [
    {
     "name": "stderr",
     "output_type": "stream",
     "text": [
      "/var/folders/ly/s47_9vtj3db6s01357kxt__00000gn/T/ipykernel_27878/2064945562.py:1: DtypeWarning: Columns (37,44,45) have mixed types. Specify dtype option on import or set low_memory=False.\n",
      "  df = pd.read_csv(\"/Users/yogeshdhaliya/Desktop/Guruji Astro/1Dec to 3Jan Consultations.csv\")\n"
     ]
    }
   ],
   "source": [
    "df = pd.read_csv(\"/Users/yogeshdhaliya/Desktop/Guruji Astro/1Dec to 3Jan Consultations.csv\")"
   ]
  },
  {
   "cell_type": "code",
   "execution_count": 3,
   "metadata": {},
   "outputs": [
    {
     "data": {
      "text/html": [
       "<div>\n",
       "<style scoped>\n",
       "    .dataframe tbody tr th:only-of-type {\n",
       "        vertical-align: middle;\n",
       "    }\n",
       "\n",
       "    .dataframe tbody tr th {\n",
       "        vertical-align: top;\n",
       "    }\n",
       "\n",
       "    .dataframe thead th {\n",
       "        text-align: right;\n",
       "    }\n",
       "</style>\n",
       "<table border=\"1\" class=\"dataframe\">\n",
       "  <thead>\n",
       "    <tr style=\"text-align: right;\">\n",
       "      <th></th>\n",
       "      <th>_id</th>\n",
       "      <th>user</th>\n",
       "      <th>chatStatus</th>\n",
       "      <th>guru</th>\n",
       "      <th>guruName</th>\n",
       "      <th>gid</th>\n",
       "      <th>uid</th>\n",
       "      <th>consultationType</th>\n",
       "      <th>website</th>\n",
       "      <th>refundStatus</th>\n",
       "      <th>...</th>\n",
       "      <th>feedback</th>\n",
       "      <th>hideHistory</th>\n",
       "      <th>cardPosition</th>\n",
       "      <th>Remedies</th>\n",
       "      <th>offer</th>\n",
       "      <th>refunds[0]</th>\n",
       "      <th>source</th>\n",
       "      <th>callSeconds</th>\n",
       "      <th>complementaryCallOrganiser</th>\n",
       "      <th>disconnectedBy</th>\n",
       "    </tr>\n",
       "  </thead>\n",
       "  <tbody>\n",
       "    <tr>\n",
       "      <th>0</th>\n",
       "      <td>656922f2919324acb6e87139</td>\n",
       "      <td>65691b0c919324acb6e7e046</td>\n",
       "      <td>incomplete</td>\n",
       "      <td>65054786f5f203225bfcdd0d</td>\n",
       "      <td>Astro  Sanjeev</td>\n",
       "      <td>95</td>\n",
       "      <td>30129</td>\n",
       "      <td>Chat</td>\n",
       "      <td>gurucool</td>\n",
       "      <td>no-refund</td>\n",
       "      <td>...</td>\n",
       "      <td>NaN</td>\n",
       "      <td>NaN</td>\n",
       "      <td>NaN</td>\n",
       "      <td>NaN</td>\n",
       "      <td>NaN</td>\n",
       "      <td>NaN</td>\n",
       "      <td>NaN</td>\n",
       "      <td>NaN</td>\n",
       "      <td>NaN</td>\n",
       "      <td>NaN</td>\n",
       "    </tr>\n",
       "    <tr>\n",
       "      <th>1</th>\n",
       "      <td>65692413919324acb6e87441</td>\n",
       "      <td>65691b0c919324acb6e7e046</td>\n",
       "      <td>incomplete</td>\n",
       "      <td>65054786f5f203225bfcdd0d</td>\n",
       "      <td>Astro  Sanjeev</td>\n",
       "      <td>95</td>\n",
       "      <td>30129</td>\n",
       "      <td>Chat</td>\n",
       "      <td>gurucool</td>\n",
       "      <td>no-refund</td>\n",
       "      <td>...</td>\n",
       "      <td>NaN</td>\n",
       "      <td>NaN</td>\n",
       "      <td>NaN</td>\n",
       "      <td>NaN</td>\n",
       "      <td>NaN</td>\n",
       "      <td>NaN</td>\n",
       "      <td>NaN</td>\n",
       "      <td>NaN</td>\n",
       "      <td>NaN</td>\n",
       "      <td>NaN</td>\n",
       "    </tr>\n",
       "    <tr>\n",
       "      <th>2</th>\n",
       "      <td>65692612919324acb6e87738</td>\n",
       "      <td>656528dcee2b1ab52f019119</td>\n",
       "      <td>incomplete</td>\n",
       "      <td>65054786f5f203225bfcdd0d</td>\n",
       "      <td>Astro  Sanjeev</td>\n",
       "      <td>95</td>\n",
       "      <td>28743</td>\n",
       "      <td>Chat</td>\n",
       "      <td>gurucool</td>\n",
       "      <td>no-refund</td>\n",
       "      <td>...</td>\n",
       "      <td>NaN</td>\n",
       "      <td>NaN</td>\n",
       "      <td>NaN</td>\n",
       "      <td>NaN</td>\n",
       "      <td>NaN</td>\n",
       "      <td>NaN</td>\n",
       "      <td>NaN</td>\n",
       "      <td>NaN</td>\n",
       "      <td>NaN</td>\n",
       "      <td>NaN</td>\n",
       "    </tr>\n",
       "    <tr>\n",
       "      <th>3</th>\n",
       "      <td>656927c9919324acb6e87b2f</td>\n",
       "      <td>6568ee9f919324acb6e77e53</td>\n",
       "      <td>incomplete</td>\n",
       "      <td>65054786f5f203225bfcdd0d</td>\n",
       "      <td>Astro  Sanjeev</td>\n",
       "      <td>95</td>\n",
       "      <td>30120</td>\n",
       "      <td>Chat</td>\n",
       "      <td>gurucool</td>\n",
       "      <td>no-refund</td>\n",
       "      <td>...</td>\n",
       "      <td>NaN</td>\n",
       "      <td>NaN</td>\n",
       "      <td>NaN</td>\n",
       "      <td>NaN</td>\n",
       "      <td>NaN</td>\n",
       "      <td>NaN</td>\n",
       "      <td>NaN</td>\n",
       "      <td>NaN</td>\n",
       "      <td>NaN</td>\n",
       "      <td>NaN</td>\n",
       "    </tr>\n",
       "    <tr>\n",
       "      <th>4</th>\n",
       "      <td>65692d75919324acb6e882dd</td>\n",
       "      <td>65629cfc4232eb704d712d98</td>\n",
       "      <td>failed</td>\n",
       "      <td>65054786f5f203225bfcdd0d</td>\n",
       "      <td>Astro  Sanjeev</td>\n",
       "      <td>95</td>\n",
       "      <td>27790</td>\n",
       "      <td>Chat</td>\n",
       "      <td>gurucool</td>\n",
       "      <td>no-refund</td>\n",
       "      <td>...</td>\n",
       "      <td>NaN</td>\n",
       "      <td>NaN</td>\n",
       "      <td>NaN</td>\n",
       "      <td>NaN</td>\n",
       "      <td>NaN</td>\n",
       "      <td>NaN</td>\n",
       "      <td>NaN</td>\n",
       "      <td>NaN</td>\n",
       "      <td>NaN</td>\n",
       "      <td>NaN</td>\n",
       "    </tr>\n",
       "  </tbody>\n",
       "</table>\n",
       "<p>5 rows × 46 columns</p>\n",
       "</div>"
      ],
      "text/plain": [
       "                        _id                      user  chatStatus  \\\n",
       "0  656922f2919324acb6e87139  65691b0c919324acb6e7e046  incomplete   \n",
       "1  65692413919324acb6e87441  65691b0c919324acb6e7e046  incomplete   \n",
       "2  65692612919324acb6e87738  656528dcee2b1ab52f019119  incomplete   \n",
       "3  656927c9919324acb6e87b2f  6568ee9f919324acb6e77e53  incomplete   \n",
       "4  65692d75919324acb6e882dd  65629cfc4232eb704d712d98      failed   \n",
       "\n",
       "                       guru        guruName  gid    uid consultationType  \\\n",
       "0  65054786f5f203225bfcdd0d  Astro  Sanjeev   95  30129             Chat   \n",
       "1  65054786f5f203225bfcdd0d  Astro  Sanjeev   95  30129             Chat   \n",
       "2  65054786f5f203225bfcdd0d  Astro  Sanjeev   95  28743             Chat   \n",
       "3  65054786f5f203225bfcdd0d  Astro  Sanjeev   95  30120             Chat   \n",
       "4  65054786f5f203225bfcdd0d  Astro  Sanjeev   95  27790             Chat   \n",
       "\n",
       "    website refundStatus  ...  feedback  hideHistory  cardPosition  Remedies  \\\n",
       "0  gurucool    no-refund  ...       NaN          NaN           NaN       NaN   \n",
       "1  gurucool    no-refund  ...       NaN          NaN           NaN       NaN   \n",
       "2  gurucool    no-refund  ...       NaN          NaN           NaN       NaN   \n",
       "3  gurucool    no-refund  ...       NaN          NaN           NaN       NaN   \n",
       "4  gurucool    no-refund  ...       NaN          NaN           NaN       NaN   \n",
       "\n",
       "   offer refunds[0] source  callSeconds  complementaryCallOrganiser  \\\n",
       "0    NaN        NaN    NaN          NaN                         NaN   \n",
       "1    NaN        NaN    NaN          NaN                         NaN   \n",
       "2    NaN        NaN    NaN          NaN                         NaN   \n",
       "3    NaN        NaN    NaN          NaN                         NaN   \n",
       "4    NaN        NaN    NaN          NaN                         NaN   \n",
       "\n",
       "  disconnectedBy  \n",
       "0            NaN  \n",
       "1            NaN  \n",
       "2            NaN  \n",
       "3            NaN  \n",
       "4            NaN  \n",
       "\n",
       "[5 rows x 46 columns]"
      ]
     },
     "execution_count": 3,
     "metadata": {},
     "output_type": "execute_result"
    }
   ],
   "source": [
    "df.head(5)"
   ]
  },
  {
   "cell_type": "markdown",
   "metadata": {},
   "source": [
    "2. Check for missing values in the dataset and handle them appropriately."
   ]
  },
  {
   "cell_type": "code",
   "execution_count": 4,
   "metadata": {},
   "outputs": [
    {
     "data": {
      "text/plain": [
       "_id                               0\n",
       "user                              0\n",
       "chatStatus                     8512\n",
       "guru                              0\n",
       "guruName                          0\n",
       "gid                               0\n",
       "uid                               0\n",
       "consultationType                  0\n",
       "website                           0\n",
       "refundStatus                      0\n",
       "isWhiteListUser                   0\n",
       "chatSeconds                    8513\n",
       "queue                             0\n",
       "freeCall                          0\n",
       "freeChat                          0\n",
       "createdAt                         0\n",
       "updatedAt                         0\n",
       "connectTime                   28027\n",
       "__v                               0\n",
       "statementEntryId                151\n",
       "chatStartTime                 18697\n",
       "chatEndTime                   14996\n",
       "timeDuration                   6629\n",
       "callChannel                   19519\n",
       "callIvrType                   19665\n",
       "callStatus                    19486\n",
       "CallSid                       19662\n",
       "amount                        19011\n",
       "astrologerCallStatus          11769\n",
       "astrologerOnCallDuration      19662\n",
       "astrologersEarnings           19011\n",
       "netAmount                     19011\n",
       "region                        19008\n",
       "userCallStatus                18682\n",
       "userOnCallDuration            19662\n",
       "RecordingUrl                  23702\n",
       "feedback                      25411\n",
       "hideHistory                    8689\n",
       "cardPosition                  27317\n",
       "Remedies                      27925\n",
       "offer                          9249\n",
       "refunds[0]                    28022\n",
       "source                        11736\n",
       "callSeconds                   28025\n",
       "complementaryCallOrganiser    28025\n",
       "disconnectedBy                28018\n",
       "dtype: int64"
      ]
     },
     "execution_count": 4,
     "metadata": {},
     "output_type": "execute_result"
    }
   ],
   "source": [
    "df.isnull().sum()"
   ]
  },
  {
   "cell_type": "code",
   "execution_count": 5,
   "metadata": {},
   "outputs": [
    {
     "name": "stdout",
     "output_type": "stream",
     "text": [
      "chatStatus, 8512\n",
      "chatSeconds, 8513\n",
      "connectTime, 28027\n",
      "statementEntryId, 151\n",
      "chatStartTime, 18697\n",
      "chatEndTime, 14996\n",
      "timeDuration, 6629\n",
      "callChannel, 19519\n",
      "callIvrType, 19665\n",
      "callStatus, 19486\n",
      "CallSid, 19662\n",
      "amount, 19011\n",
      "astrologerCallStatus, 11769\n",
      "astrologerOnCallDuration, 19662\n",
      "astrologersEarnings, 19011\n",
      "netAmount, 19011\n",
      "region, 19008\n",
      "userCallStatus, 18682\n",
      "userOnCallDuration, 19662\n",
      "RecordingUrl, 23702\n",
      "feedback, 25411\n",
      "hideHistory, 8689\n",
      "cardPosition, 27317\n",
      "Remedies, 27925\n",
      "offer, 9249\n",
      "refunds[0], 28022\n",
      "source, 11736\n",
      "callSeconds, 28025\n",
      "complementaryCallOrganiser, 28025\n",
      "disconnectedBy, 28018\n"
     ]
    }
   ],
   "source": [
    "for col in df.columns:\n",
    "  missing_count = df[col].isnull().sum()\n",
    "  if missing_count > 0:\n",
    "    print(f\"{col}, {missing_count}\")"
   ]
  },
  {
   "cell_type": "code",
   "execution_count": 6,
   "metadata": {},
   "outputs": [
    {
     "data": {
      "text/plain": [
       "(28027, 46)"
      ]
     },
     "execution_count": 6,
     "metadata": {},
     "output_type": "execute_result"
    }
   ],
   "source": [
    "df.shape"
   ]
  },
  {
   "cell_type": "markdown",
   "metadata": {},
   "source": [
    "I used Excel tool for removing irrelavent columns and higher missing values columns from the given data."
   ]
  },
  {
   "cell_type": "code",
   "execution_count": 7,
   "metadata": {},
   "outputs": [
    {
     "data": {
      "text/html": [
       "<div>\n",
       "<style scoped>\n",
       "    .dataframe tbody tr th:only-of-type {\n",
       "        vertical-align: middle;\n",
       "    }\n",
       "\n",
       "    .dataframe tbody tr th {\n",
       "        vertical-align: top;\n",
       "    }\n",
       "\n",
       "    .dataframe thead th {\n",
       "        text-align: right;\n",
       "    }\n",
       "</style>\n",
       "<table border=\"1\" class=\"dataframe\">\n",
       "  <thead>\n",
       "    <tr style=\"text-align: right;\">\n",
       "      <th></th>\n",
       "      <th>chatStatus</th>\n",
       "      <th>guruName</th>\n",
       "      <th>gid</th>\n",
       "      <th>consultationType</th>\n",
       "      <th>website</th>\n",
       "      <th>chatSeconds</th>\n",
       "      <th>timeDuration</th>\n",
       "      <th>amount</th>\n",
       "      <th>astrologersEarnings</th>\n",
       "      <th>netAmount</th>\n",
       "      <th>source</th>\n",
       "      <th>userCallStatus</th>\n",
       "      <th>createdAt</th>\n",
       "      <th>updatedAt</th>\n",
       "    </tr>\n",
       "  </thead>\n",
       "  <tbody>\n",
       "    <tr>\n",
       "      <th>0</th>\n",
       "      <td>incomplete</td>\n",
       "      <td>Astro  Sanjeev</td>\n",
       "      <td>95</td>\n",
       "      <td>Chat</td>\n",
       "      <td>gurucool</td>\n",
       "      <td>300.0</td>\n",
       "      <td>0.008750</td>\n",
       "      <td>NaN</td>\n",
       "      <td>NaN</td>\n",
       "      <td>NaN</td>\n",
       "      <td>NaN</td>\n",
       "      <td>NaN</td>\n",
       "      <td>2023-12-01T00:04:02.993Z</td>\n",
       "      <td>2023-12-01T00:07:33.833Z</td>\n",
       "    </tr>\n",
       "    <tr>\n",
       "      <th>1</th>\n",
       "      <td>incomplete</td>\n",
       "      <td>Astro  Sanjeev</td>\n",
       "      <td>95</td>\n",
       "      <td>Chat</td>\n",
       "      <td>gurucool</td>\n",
       "      <td>300.0</td>\n",
       "      <td>0.004067</td>\n",
       "      <td>NaN</td>\n",
       "      <td>NaN</td>\n",
       "      <td>NaN</td>\n",
       "      <td>NaN</td>\n",
       "      <td>NaN</td>\n",
       "      <td>2023-12-01T00:08:51.903Z</td>\n",
       "      <td>2023-12-01T00:09:56.111Z</td>\n",
       "    </tr>\n",
       "    <tr>\n",
       "      <th>2</th>\n",
       "      <td>incomplete</td>\n",
       "      <td>Astro  Sanjeev</td>\n",
       "      <td>95</td>\n",
       "      <td>Chat</td>\n",
       "      <td>gurucool</td>\n",
       "      <td>300.0</td>\n",
       "      <td>0.004217</td>\n",
       "      <td>NaN</td>\n",
       "      <td>NaN</td>\n",
       "      <td>NaN</td>\n",
       "      <td>NaN</td>\n",
       "      <td>NaN</td>\n",
       "      <td>2023-12-01T00:17:22.270Z</td>\n",
       "      <td>2023-12-01T00:22:04.382Z</td>\n",
       "    </tr>\n",
       "    <tr>\n",
       "      <th>3</th>\n",
       "      <td>incomplete</td>\n",
       "      <td>Astro  Sanjeev</td>\n",
       "      <td>95</td>\n",
       "      <td>Chat</td>\n",
       "      <td>gurucool</td>\n",
       "      <td>300.0</td>\n",
       "      <td>0.006733</td>\n",
       "      <td>NaN</td>\n",
       "      <td>NaN</td>\n",
       "      <td>NaN</td>\n",
       "      <td>NaN</td>\n",
       "      <td>NaN</td>\n",
       "      <td>2023-12-01T00:24:41.672Z</td>\n",
       "      <td>2023-12-01T00:29:44.022Z</td>\n",
       "    </tr>\n",
       "    <tr>\n",
       "      <th>4</th>\n",
       "      <td>failed</td>\n",
       "      <td>Astro  Sanjeev</td>\n",
       "      <td>95</td>\n",
       "      <td>Chat</td>\n",
       "      <td>gurucool</td>\n",
       "      <td>300.0</td>\n",
       "      <td>NaN</td>\n",
       "      <td>NaN</td>\n",
       "      <td>NaN</td>\n",
       "      <td>NaN</td>\n",
       "      <td>NaN</td>\n",
       "      <td>NaN</td>\n",
       "      <td>2023-12-01T00:48:53.744Z</td>\n",
       "      <td>2023-12-01T00:50:33.153Z</td>\n",
       "    </tr>\n",
       "  </tbody>\n",
       "</table>\n",
       "</div>"
      ],
      "text/plain": [
       "   chatStatus        guruName  gid consultationType   website  chatSeconds  \\\n",
       "0  incomplete  Astro  Sanjeev   95             Chat  gurucool        300.0   \n",
       "1  incomplete  Astro  Sanjeev   95             Chat  gurucool        300.0   \n",
       "2  incomplete  Astro  Sanjeev   95             Chat  gurucool        300.0   \n",
       "3  incomplete  Astro  Sanjeev   95             Chat  gurucool        300.0   \n",
       "4      failed  Astro  Sanjeev   95             Chat  gurucool        300.0   \n",
       "\n",
       "   timeDuration  amount  astrologersEarnings  netAmount source userCallStatus  \\\n",
       "0      0.008750     NaN                  NaN        NaN    NaN            NaN   \n",
       "1      0.004067     NaN                  NaN        NaN    NaN            NaN   \n",
       "2      0.004217     NaN                  NaN        NaN    NaN            NaN   \n",
       "3      0.006733     NaN                  NaN        NaN    NaN            NaN   \n",
       "4           NaN     NaN                  NaN        NaN    NaN            NaN   \n",
       "\n",
       "                    createdAt                 updatedAt  \n",
       "0   2023-12-01T00:04:02.993Z   2023-12-01T00:07:33.833Z  \n",
       "1    2023-12-01T00:08:51.903Z  2023-12-01T00:09:56.111Z  \n",
       "2    2023-12-01T00:17:22.270Z  2023-12-01T00:22:04.382Z  \n",
       "3    2023-12-01T00:24:41.672Z  2023-12-01T00:29:44.022Z  \n",
       "4    2023-12-01T00:48:53.744Z  2023-12-01T00:50:33.153Z  "
      ]
     },
     "execution_count": 7,
     "metadata": {},
     "output_type": "execute_result"
    }
   ],
   "source": [
    "df2 = pd.read_csv(\"/Users/yogeshdhaliya/Desktop/Guruji Astro/1Dec to 3Jan Consultations (2).csv\")\n",
    "df2.head()"
   ]
  },
  {
   "cell_type": "code",
   "execution_count": 8,
   "metadata": {},
   "outputs": [
    {
     "data": {
      "text/plain": [
       "(28027, 14)"
      ]
     },
     "execution_count": 8,
     "metadata": {},
     "output_type": "execute_result"
    }
   ],
   "source": [
    "df2.shape"
   ]
  },
  {
   "cell_type": "code",
   "execution_count": 9,
   "metadata": {},
   "outputs": [
    {
     "data": {
      "text/plain": [
       "chatStatus              8512\n",
       "guruName                   0\n",
       "gid                        0\n",
       "consultationType           0\n",
       "website                    0\n",
       "chatSeconds             8513\n",
       "timeDuration            6629\n",
       "amount                 19011\n",
       "astrologersEarnings    19011\n",
       "netAmount              19011\n",
       "source                 11736\n",
       "userCallStatus         18682\n",
       "createdAt                  0\n",
       "updatedAt                  0\n",
       "dtype: int64"
      ]
     },
     "execution_count": 9,
     "metadata": {},
     "output_type": "execute_result"
    }
   ],
   "source": [
    "df2.isnull().sum()"
   ]
  },
  {
   "cell_type": "markdown",
   "metadata": {},
   "source": [
    "Data is fully unbalanced So, I am not using drop function for missing value rows instead of that i will fill null values with either 0 or NaN. So,I can not miss any important insight from the data. "
   ]
  },
  {
   "cell_type": "code",
   "execution_count": 10,
   "metadata": {},
   "outputs": [],
   "source": [
    "df2['amount'] = df2['amount'].fillna(0)\n",
    "df2['astrologersEarnings'] = df2['astrologersEarnings'].fillna(0)\n",
    "df2['netAmount'] = df2['netAmount'].fillna(0)\n",
    "df2['chatSeconds'] = df2['chatSeconds'].fillna(0)\n",
    "df2['chatStatus'] = df2['chatStatus'].fillna('incomplete')\n",
    "df2['timeDuration'] = df2['timeDuration'].fillna(0)\n",
    "df2['source'] = df2['source'].fillna('NaN')\n",
    "df2['userCallStatus'] = df2['userCallStatus'].fillna('NaN')"
   ]
  },
  {
   "cell_type": "code",
   "execution_count": 11,
   "metadata": {},
   "outputs": [
    {
     "data": {
      "text/plain": [
       "chatStatus             0\n",
       "guruName               0\n",
       "gid                    0\n",
       "consultationType       0\n",
       "website                0\n",
       "chatSeconds            0\n",
       "timeDuration           0\n",
       "amount                 0\n",
       "astrologersEarnings    0\n",
       "netAmount              0\n",
       "source                 0\n",
       "userCallStatus         0\n",
       "createdAt              0\n",
       "updatedAt              0\n",
       "dtype: int64"
      ]
     },
     "execution_count": 11,
     "metadata": {},
     "output_type": "execute_result"
    }
   ],
   "source": [
    "df2.isnull().sum()"
   ]
  },
  {
   "cell_type": "code",
   "execution_count": 12,
   "metadata": {},
   "outputs": [
    {
     "data": {
      "text/html": [
       "<div>\n",
       "<style scoped>\n",
       "    .dataframe tbody tr th:only-of-type {\n",
       "        vertical-align: middle;\n",
       "    }\n",
       "\n",
       "    .dataframe tbody tr th {\n",
       "        vertical-align: top;\n",
       "    }\n",
       "\n",
       "    .dataframe thead th {\n",
       "        text-align: right;\n",
       "    }\n",
       "</style>\n",
       "<table border=\"1\" class=\"dataframe\">\n",
       "  <thead>\n",
       "    <tr style=\"text-align: right;\">\n",
       "      <th></th>\n",
       "      <th>chatStatus</th>\n",
       "      <th>guruName</th>\n",
       "      <th>gid</th>\n",
       "      <th>consultationType</th>\n",
       "      <th>website</th>\n",
       "      <th>chatSeconds</th>\n",
       "      <th>timeDuration</th>\n",
       "      <th>amount</th>\n",
       "      <th>astrologersEarnings</th>\n",
       "      <th>netAmount</th>\n",
       "      <th>source</th>\n",
       "      <th>userCallStatus</th>\n",
       "      <th>createdAt</th>\n",
       "      <th>updatedAt</th>\n",
       "    </tr>\n",
       "  </thead>\n",
       "  <tbody>\n",
       "    <tr>\n",
       "      <th>0</th>\n",
       "      <td>incomplete</td>\n",
       "      <td>Astro  Sanjeev</td>\n",
       "      <td>95</td>\n",
       "      <td>Chat</td>\n",
       "      <td>gurucool</td>\n",
       "      <td>300.0</td>\n",
       "      <td>0.008750</td>\n",
       "      <td>0.0</td>\n",
       "      <td>0.0</td>\n",
       "      <td>0.0</td>\n",
       "      <td>NaN</td>\n",
       "      <td>NaN</td>\n",
       "      <td>2023-12-01T00:04:02.993Z</td>\n",
       "      <td>2023-12-01T00:07:33.833Z</td>\n",
       "    </tr>\n",
       "    <tr>\n",
       "      <th>1</th>\n",
       "      <td>incomplete</td>\n",
       "      <td>Astro  Sanjeev</td>\n",
       "      <td>95</td>\n",
       "      <td>Chat</td>\n",
       "      <td>gurucool</td>\n",
       "      <td>300.0</td>\n",
       "      <td>0.004067</td>\n",
       "      <td>0.0</td>\n",
       "      <td>0.0</td>\n",
       "      <td>0.0</td>\n",
       "      <td>NaN</td>\n",
       "      <td>NaN</td>\n",
       "      <td>2023-12-01T00:08:51.903Z</td>\n",
       "      <td>2023-12-01T00:09:56.111Z</td>\n",
       "    </tr>\n",
       "    <tr>\n",
       "      <th>2</th>\n",
       "      <td>incomplete</td>\n",
       "      <td>Astro  Sanjeev</td>\n",
       "      <td>95</td>\n",
       "      <td>Chat</td>\n",
       "      <td>gurucool</td>\n",
       "      <td>300.0</td>\n",
       "      <td>0.004217</td>\n",
       "      <td>0.0</td>\n",
       "      <td>0.0</td>\n",
       "      <td>0.0</td>\n",
       "      <td>NaN</td>\n",
       "      <td>NaN</td>\n",
       "      <td>2023-12-01T00:17:22.270Z</td>\n",
       "      <td>2023-12-01T00:22:04.382Z</td>\n",
       "    </tr>\n",
       "    <tr>\n",
       "      <th>3</th>\n",
       "      <td>incomplete</td>\n",
       "      <td>Astro  Sanjeev</td>\n",
       "      <td>95</td>\n",
       "      <td>Chat</td>\n",
       "      <td>gurucool</td>\n",
       "      <td>300.0</td>\n",
       "      <td>0.006733</td>\n",
       "      <td>0.0</td>\n",
       "      <td>0.0</td>\n",
       "      <td>0.0</td>\n",
       "      <td>NaN</td>\n",
       "      <td>NaN</td>\n",
       "      <td>2023-12-01T00:24:41.672Z</td>\n",
       "      <td>2023-12-01T00:29:44.022Z</td>\n",
       "    </tr>\n",
       "    <tr>\n",
       "      <th>4</th>\n",
       "      <td>failed</td>\n",
       "      <td>Astro  Sanjeev</td>\n",
       "      <td>95</td>\n",
       "      <td>Chat</td>\n",
       "      <td>gurucool</td>\n",
       "      <td>300.0</td>\n",
       "      <td>0.000000</td>\n",
       "      <td>0.0</td>\n",
       "      <td>0.0</td>\n",
       "      <td>0.0</td>\n",
       "      <td>NaN</td>\n",
       "      <td>NaN</td>\n",
       "      <td>2023-12-01T00:48:53.744Z</td>\n",
       "      <td>2023-12-01T00:50:33.153Z</td>\n",
       "    </tr>\n",
       "  </tbody>\n",
       "</table>\n",
       "</div>"
      ],
      "text/plain": [
       "   chatStatus        guruName  gid consultationType   website  chatSeconds  \\\n",
       "0  incomplete  Astro  Sanjeev   95             Chat  gurucool        300.0   \n",
       "1  incomplete  Astro  Sanjeev   95             Chat  gurucool        300.0   \n",
       "2  incomplete  Astro  Sanjeev   95             Chat  gurucool        300.0   \n",
       "3  incomplete  Astro  Sanjeev   95             Chat  gurucool        300.0   \n",
       "4      failed  Astro  Sanjeev   95             Chat  gurucool        300.0   \n",
       "\n",
       "   timeDuration  amount  astrologersEarnings  netAmount source userCallStatus  \\\n",
       "0      0.008750     0.0                  0.0        0.0    NaN            NaN   \n",
       "1      0.004067     0.0                  0.0        0.0    NaN            NaN   \n",
       "2      0.004217     0.0                  0.0        0.0    NaN            NaN   \n",
       "3      0.006733     0.0                  0.0        0.0    NaN            NaN   \n",
       "4      0.000000     0.0                  0.0        0.0    NaN            NaN   \n",
       "\n",
       "                    createdAt                 updatedAt  \n",
       "0   2023-12-01T00:04:02.993Z   2023-12-01T00:07:33.833Z  \n",
       "1    2023-12-01T00:08:51.903Z  2023-12-01T00:09:56.111Z  \n",
       "2    2023-12-01T00:17:22.270Z  2023-12-01T00:22:04.382Z  \n",
       "3    2023-12-01T00:24:41.672Z  2023-12-01T00:29:44.022Z  \n",
       "4    2023-12-01T00:48:53.744Z  2023-12-01T00:50:33.153Z  "
      ]
     },
     "execution_count": 12,
     "metadata": {},
     "output_type": "execute_result"
    }
   ],
   "source": [
    "df2.head()"
   ]
  },
  {
   "cell_type": "markdown",
   "metadata": {},
   "source": [
    "3. Provide summary statistics for key numeric columns (e.g., Charge, TalkTime)"
   ]
  },
  {
   "cell_type": "code",
   "execution_count": 13,
   "metadata": {},
   "outputs": [],
   "source": [
    "new_column_names = {\n",
    "    'timeDuration': 'TalkTime',\n",
    "    'amount': 'Charge',\n",
    "}\n",
    "\n",
    "df2.rename(columns=new_column_names, inplace=True)"
   ]
  },
  {
   "cell_type": "code",
   "execution_count": 14,
   "metadata": {},
   "outputs": [
    {
     "data": {
      "text/html": [
       "<div>\n",
       "<style scoped>\n",
       "    .dataframe tbody tr th:only-of-type {\n",
       "        vertical-align: middle;\n",
       "    }\n",
       "\n",
       "    .dataframe tbody tr th {\n",
       "        vertical-align: top;\n",
       "    }\n",
       "\n",
       "    .dataframe thead th {\n",
       "        text-align: right;\n",
       "    }\n",
       "</style>\n",
       "<table border=\"1\" class=\"dataframe\">\n",
       "  <thead>\n",
       "    <tr style=\"text-align: right;\">\n",
       "      <th></th>\n",
       "      <th>chatStatus</th>\n",
       "      <th>guruName</th>\n",
       "      <th>gid</th>\n",
       "      <th>consultationType</th>\n",
       "      <th>website</th>\n",
       "      <th>chatSeconds</th>\n",
       "      <th>TalkTime</th>\n",
       "      <th>Charge</th>\n",
       "      <th>astrologersEarnings</th>\n",
       "      <th>netAmount</th>\n",
       "      <th>source</th>\n",
       "      <th>userCallStatus</th>\n",
       "      <th>createdAt</th>\n",
       "      <th>updatedAt</th>\n",
       "    </tr>\n",
       "  </thead>\n",
       "  <tbody>\n",
       "    <tr>\n",
       "      <th>0</th>\n",
       "      <td>incomplete</td>\n",
       "      <td>Astro  Sanjeev</td>\n",
       "      <td>95</td>\n",
       "      <td>Chat</td>\n",
       "      <td>gurucool</td>\n",
       "      <td>300.0</td>\n",
       "      <td>0.008750</td>\n",
       "      <td>0.0</td>\n",
       "      <td>0.0</td>\n",
       "      <td>0.0</td>\n",
       "      <td>NaN</td>\n",
       "      <td>NaN</td>\n",
       "      <td>2023-12-01T00:04:02.993Z</td>\n",
       "      <td>2023-12-01T00:07:33.833Z</td>\n",
       "    </tr>\n",
       "    <tr>\n",
       "      <th>1</th>\n",
       "      <td>incomplete</td>\n",
       "      <td>Astro  Sanjeev</td>\n",
       "      <td>95</td>\n",
       "      <td>Chat</td>\n",
       "      <td>gurucool</td>\n",
       "      <td>300.0</td>\n",
       "      <td>0.004067</td>\n",
       "      <td>0.0</td>\n",
       "      <td>0.0</td>\n",
       "      <td>0.0</td>\n",
       "      <td>NaN</td>\n",
       "      <td>NaN</td>\n",
       "      <td>2023-12-01T00:08:51.903Z</td>\n",
       "      <td>2023-12-01T00:09:56.111Z</td>\n",
       "    </tr>\n",
       "    <tr>\n",
       "      <th>2</th>\n",
       "      <td>incomplete</td>\n",
       "      <td>Astro  Sanjeev</td>\n",
       "      <td>95</td>\n",
       "      <td>Chat</td>\n",
       "      <td>gurucool</td>\n",
       "      <td>300.0</td>\n",
       "      <td>0.004217</td>\n",
       "      <td>0.0</td>\n",
       "      <td>0.0</td>\n",
       "      <td>0.0</td>\n",
       "      <td>NaN</td>\n",
       "      <td>NaN</td>\n",
       "      <td>2023-12-01T00:17:22.270Z</td>\n",
       "      <td>2023-12-01T00:22:04.382Z</td>\n",
       "    </tr>\n",
       "    <tr>\n",
       "      <th>3</th>\n",
       "      <td>incomplete</td>\n",
       "      <td>Astro  Sanjeev</td>\n",
       "      <td>95</td>\n",
       "      <td>Chat</td>\n",
       "      <td>gurucool</td>\n",
       "      <td>300.0</td>\n",
       "      <td>0.006733</td>\n",
       "      <td>0.0</td>\n",
       "      <td>0.0</td>\n",
       "      <td>0.0</td>\n",
       "      <td>NaN</td>\n",
       "      <td>NaN</td>\n",
       "      <td>2023-12-01T00:24:41.672Z</td>\n",
       "      <td>2023-12-01T00:29:44.022Z</td>\n",
       "    </tr>\n",
       "    <tr>\n",
       "      <th>4</th>\n",
       "      <td>failed</td>\n",
       "      <td>Astro  Sanjeev</td>\n",
       "      <td>95</td>\n",
       "      <td>Chat</td>\n",
       "      <td>gurucool</td>\n",
       "      <td>300.0</td>\n",
       "      <td>0.000000</td>\n",
       "      <td>0.0</td>\n",
       "      <td>0.0</td>\n",
       "      <td>0.0</td>\n",
       "      <td>NaN</td>\n",
       "      <td>NaN</td>\n",
       "      <td>2023-12-01T00:48:53.744Z</td>\n",
       "      <td>2023-12-01T00:50:33.153Z</td>\n",
       "    </tr>\n",
       "  </tbody>\n",
       "</table>\n",
       "</div>"
      ],
      "text/plain": [
       "   chatStatus        guruName  gid consultationType   website  chatSeconds  \\\n",
       "0  incomplete  Astro  Sanjeev   95             Chat  gurucool        300.0   \n",
       "1  incomplete  Astro  Sanjeev   95             Chat  gurucool        300.0   \n",
       "2  incomplete  Astro  Sanjeev   95             Chat  gurucool        300.0   \n",
       "3  incomplete  Astro  Sanjeev   95             Chat  gurucool        300.0   \n",
       "4      failed  Astro  Sanjeev   95             Chat  gurucool        300.0   \n",
       "\n",
       "   TalkTime  Charge  astrologersEarnings  netAmount source userCallStatus  \\\n",
       "0  0.008750     0.0                  0.0        0.0    NaN            NaN   \n",
       "1  0.004067     0.0                  0.0        0.0    NaN            NaN   \n",
       "2  0.004217     0.0                  0.0        0.0    NaN            NaN   \n",
       "3  0.006733     0.0                  0.0        0.0    NaN            NaN   \n",
       "4  0.000000     0.0                  0.0        0.0    NaN            NaN   \n",
       "\n",
       "                    createdAt                 updatedAt  \n",
       "0   2023-12-01T00:04:02.993Z   2023-12-01T00:07:33.833Z  \n",
       "1    2023-12-01T00:08:51.903Z  2023-12-01T00:09:56.111Z  \n",
       "2    2023-12-01T00:17:22.270Z  2023-12-01T00:22:04.382Z  \n",
       "3    2023-12-01T00:24:41.672Z  2023-12-01T00:29:44.022Z  \n",
       "4    2023-12-01T00:48:53.744Z  2023-12-01T00:50:33.153Z  "
      ]
     },
     "execution_count": 14,
     "metadata": {},
     "output_type": "execute_result"
    }
   ],
   "source": [
    "df2.head()"
   ]
  },
  {
   "cell_type": "code",
   "execution_count": 15,
   "metadata": {},
   "outputs": [
    {
     "data": {
      "text/html": [
       "<div>\n",
       "<style scoped>\n",
       "    .dataframe tbody tr th:only-of-type {\n",
       "        vertical-align: middle;\n",
       "    }\n",
       "\n",
       "    .dataframe tbody tr th {\n",
       "        vertical-align: top;\n",
       "    }\n",
       "\n",
       "    .dataframe thead th {\n",
       "        text-align: right;\n",
       "    }\n",
       "</style>\n",
       "<table border=\"1\" class=\"dataframe\">\n",
       "  <thead>\n",
       "    <tr style=\"text-align: right;\">\n",
       "      <th></th>\n",
       "      <th>Charge</th>\n",
       "      <th>TalkTime</th>\n",
       "    </tr>\n",
       "  </thead>\n",
       "  <tbody>\n",
       "    <tr>\n",
       "      <th>count</th>\n",
       "      <td>28027.000000</td>\n",
       "      <td>28027.000000</td>\n",
       "    </tr>\n",
       "    <tr>\n",
       "      <th>mean</th>\n",
       "      <td>7.637846</td>\n",
       "      <td>1.509525</td>\n",
       "    </tr>\n",
       "    <tr>\n",
       "      <th>std</th>\n",
       "      <td>50.648404</td>\n",
       "      <td>3.037316</td>\n",
       "    </tr>\n",
       "    <tr>\n",
       "      <th>min</th>\n",
       "      <td>0.000000</td>\n",
       "      <td>-0.166667</td>\n",
       "    </tr>\n",
       "    <tr>\n",
       "      <th>25%</th>\n",
       "      <td>0.000000</td>\n",
       "      <td>0.000000</td>\n",
       "    </tr>\n",
       "    <tr>\n",
       "      <th>50%</th>\n",
       "      <td>0.000000</td>\n",
       "      <td>0.000000</td>\n",
       "    </tr>\n",
       "    <tr>\n",
       "      <th>75%</th>\n",
       "      <td>0.000000</td>\n",
       "      <td>3.000000</td>\n",
       "    </tr>\n",
       "    <tr>\n",
       "      <th>max</th>\n",
       "      <td>1800.000000</td>\n",
       "      <td>67.000000</td>\n",
       "    </tr>\n",
       "  </tbody>\n",
       "</table>\n",
       "</div>"
      ],
      "text/plain": [
       "             Charge      TalkTime\n",
       "count  28027.000000  28027.000000\n",
       "mean       7.637846      1.509525\n",
       "std       50.648404      3.037316\n",
       "min        0.000000     -0.166667\n",
       "25%        0.000000      0.000000\n",
       "50%        0.000000      0.000000\n",
       "75%        0.000000      3.000000\n",
       "max     1800.000000     67.000000"
      ]
     },
     "execution_count": 15,
     "metadata": {},
     "output_type": "execute_result"
    }
   ],
   "source": [
    "df2[['Charge', 'TalkTime']].describe()"
   ]
  },
  {
   "cell_type": "code",
   "execution_count": 16,
   "metadata": {},
   "outputs": [
    {
     "data": {
      "image/png": "[encoded data removed]",
      "text/plain": [
       "<Figure size 720x432 with 1 Axes>"
      ]
     },
     "metadata": {},
     "output_type": "display_data"
    }
   ],
   "source": [
    "sns.set(style=\"whitegrid\")\n",
    "\n",
    "plt.figure(figsize=(10, 6))\n",
    "sns.scatterplot(data=df2, x='Charge', y='TalkTime')\n",
    "plt.title('Scatter Plot of Charge vs TalkTime')\n",
    "plt.xlabel('Charge')\n",
    "plt.ylabel('TalkTime')\n",
    "plt.show()\n"
   ]
  },
  {
   "cell_type": "markdown",
   "metadata": {},
   "source": [
    "4. Visualize the distribution of call charges using a histogram."
   ]
  },
  {
   "cell_type": "code",
   "execution_count": 17,
   "metadata": {},
   "outputs": [
    {
     "data": {
      "image/png": "[encoded data removed]",
      "text/plain": [
       "<Figure size 720x432 with 1 Axes>"
      ]
     },
     "metadata": {},
     "output_type": "display_data"
    }
   ],
   "source": [
    "filtered_df3 = df2[df2['Charge'] != 0]\n",
    "\n",
    "plt.figure(figsize=(10, 6))\n",
    "sns.histplot(filtered_df3['Charge'], kde=True)\n",
    "plt.title('Histogram of Call Charges')\n",
    "plt.xlabel('Charge')\n",
    "plt.ylabel('Frequency')\n",
    "\n",
    "plt.show()"
   ]
  },
  {
   "cell_type": "code",
   "execution_count": 18,
   "metadata": {},
   "outputs": [
    {
     "data": {
      "image/png": "[encoded data removed]",
      "text/plain": [
       "<Figure size 720x432 with 1 Axes>"
      ]
     },
     "metadata": {},
     "output_type": "display_data"
    }
   ],
   "source": [
    "filtered_df2 = df2[(df2['Charge'] != 0) & (df2['Charge'] <= 750)]\n",
    "\n",
    "plt.figure(figsize=(10, 6))\n",
    "sns.histplot(filtered_df2['Charge'], kde=True)\n",
    "plt.title('Histogram of Call Charges')\n",
    "plt.xlabel('Charge')\n",
    "plt.ylabel('Frequency')\n",
    "\n",
    "plt.show()"
   ]
  },
  {
   "cell_type": "markdown",
   "metadata": {},
   "source": [
    "### Task 2: Call Center Performance Metrics"
   ]
  },
  {
   "cell_type": "markdown",
   "metadata": {},
   "source": [
    "5. Calculate the average TalkTime for different call activities (Activity column)"
   ]
  },
  {
   "cell_type": "code",
   "execution_count": 19,
   "metadata": {},
   "outputs": [],
   "source": [
    "new_column_names = {\n",
    "    'consultationType': 'Activity',\n",
    "}\n",
    "\n",
    "df2.rename(columns=new_column_names, inplace=True)"
   ]
  },
  {
   "cell_type": "code",
   "execution_count": 20,
   "metadata": {},
   "outputs": [
    {
     "data": {
      "text/html": [
       "<div>\n",
       "<style scoped>\n",
       "    .dataframe tbody tr th:only-of-type {\n",
       "        vertical-align: middle;\n",
       "    }\n",
       "\n",
       "    .dataframe tbody tr th {\n",
       "        vertical-align: top;\n",
       "    }\n",
       "\n",
       "    .dataframe thead th {\n",
       "        text-align: right;\n",
       "    }\n",
       "</style>\n",
       "<table border=\"1\" class=\"dataframe\">\n",
       "  <thead>\n",
       "    <tr style=\"text-align: right;\">\n",
       "      <th></th>\n",
       "      <th>chatStatus</th>\n",
       "      <th>guruName</th>\n",
       "      <th>gid</th>\n",
       "      <th>Activity</th>\n",
       "      <th>website</th>\n",
       "      <th>chatSeconds</th>\n",
       "      <th>TalkTime</th>\n",
       "      <th>Charge</th>\n",
       "      <th>astrologersEarnings</th>\n",
       "      <th>netAmount</th>\n",
       "      <th>source</th>\n",
       "      <th>userCallStatus</th>\n",
       "      <th>createdAt</th>\n",
       "      <th>updatedAt</th>\n",
       "    </tr>\n",
       "  </thead>\n",
       "  <tbody>\n",
       "    <tr>\n",
       "      <th>0</th>\n",
       "      <td>incomplete</td>\n",
       "      <td>Astro  Sanjeev</td>\n",
       "      <td>95</td>\n",
       "      <td>Chat</td>\n",
       "      <td>gurucool</td>\n",
       "      <td>300.0</td>\n",
       "      <td>0.008750</td>\n",
       "      <td>0.0</td>\n",
       "      <td>0.0</td>\n",
       "      <td>0.0</td>\n",
       "      <td>NaN</td>\n",
       "      <td>NaN</td>\n",
       "      <td>2023-12-01T00:04:02.993Z</td>\n",
       "      <td>2023-12-01T00:07:33.833Z</td>\n",
       "    </tr>\n",
       "    <tr>\n",
       "      <th>1</th>\n",
       "      <td>incomplete</td>\n",
       "      <td>Astro  Sanjeev</td>\n",
       "      <td>95</td>\n",
       "      <td>Chat</td>\n",
       "      <td>gurucool</td>\n",
       "      <td>300.0</td>\n",
       "      <td>0.004067</td>\n",
       "      <td>0.0</td>\n",
       "      <td>0.0</td>\n",
       "      <td>0.0</td>\n",
       "      <td>NaN</td>\n",
       "      <td>NaN</td>\n",
       "      <td>2023-12-01T00:08:51.903Z</td>\n",
       "      <td>2023-12-01T00:09:56.111Z</td>\n",
       "    </tr>\n",
       "    <tr>\n",
       "      <th>2</th>\n",
       "      <td>incomplete</td>\n",
       "      <td>Astro  Sanjeev</td>\n",
       "      <td>95</td>\n",
       "      <td>Chat</td>\n",
       "      <td>gurucool</td>\n",
       "      <td>300.0</td>\n",
       "      <td>0.004217</td>\n",
       "      <td>0.0</td>\n",
       "      <td>0.0</td>\n",
       "      <td>0.0</td>\n",
       "      <td>NaN</td>\n",
       "      <td>NaN</td>\n",
       "      <td>2023-12-01T00:17:22.270Z</td>\n",
       "      <td>2023-12-01T00:22:04.382Z</td>\n",
       "    </tr>\n",
       "    <tr>\n",
       "      <th>3</th>\n",
       "      <td>incomplete</td>\n",
       "      <td>Astro  Sanjeev</td>\n",
       "      <td>95</td>\n",
       "      <td>Chat</td>\n",
       "      <td>gurucool</td>\n",
       "      <td>300.0</td>\n",
       "      <td>0.006733</td>\n",
       "      <td>0.0</td>\n",
       "      <td>0.0</td>\n",
       "      <td>0.0</td>\n",
       "      <td>NaN</td>\n",
       "      <td>NaN</td>\n",
       "      <td>2023-12-01T00:24:41.672Z</td>\n",
       "      <td>2023-12-01T00:29:44.022Z</td>\n",
       "    </tr>\n",
       "    <tr>\n",
       "      <th>4</th>\n",
       "      <td>failed</td>\n",
       "      <td>Astro  Sanjeev</td>\n",
       "      <td>95</td>\n",
       "      <td>Chat</td>\n",
       "      <td>gurucool</td>\n",
       "      <td>300.0</td>\n",
       "      <td>0.000000</td>\n",
       "      <td>0.0</td>\n",
       "      <td>0.0</td>\n",
       "      <td>0.0</td>\n",
       "      <td>NaN</td>\n",
       "      <td>NaN</td>\n",
       "      <td>2023-12-01T00:48:53.744Z</td>\n",
       "      <td>2023-12-01T00:50:33.153Z</td>\n",
       "    </tr>\n",
       "  </tbody>\n",
       "</table>\n",
       "</div>"
      ],
      "text/plain": [
       "   chatStatus        guruName  gid Activity   website  chatSeconds  TalkTime  \\\n",
       "0  incomplete  Astro  Sanjeev   95     Chat  gurucool        300.0  0.008750   \n",
       "1  incomplete  Astro  Sanjeev   95     Chat  gurucool        300.0  0.004067   \n",
       "2  incomplete  Astro  Sanjeev   95     Chat  gurucool        300.0  0.004217   \n",
       "3  incomplete  Astro  Sanjeev   95     Chat  gurucool        300.0  0.006733   \n",
       "4      failed  Astro  Sanjeev   95     Chat  gurucool        300.0  0.000000   \n",
       "\n",
       "   Charge  astrologersEarnings  netAmount source userCallStatus  \\\n",
       "0     0.0                  0.0        0.0    NaN            NaN   \n",
       "1     0.0                  0.0        0.0    NaN            NaN   \n",
       "2     0.0                  0.0        0.0    NaN            NaN   \n",
       "3     0.0                  0.0        0.0    NaN            NaN   \n",
       "4     0.0                  0.0        0.0    NaN            NaN   \n",
       "\n",
       "                    createdAt                 updatedAt  \n",
       "0   2023-12-01T00:04:02.993Z   2023-12-01T00:07:33.833Z  \n",
       "1    2023-12-01T00:08:51.903Z  2023-12-01T00:09:56.111Z  \n",
       "2    2023-12-01T00:17:22.270Z  2023-12-01T00:22:04.382Z  \n",
       "3    2023-12-01T00:24:41.672Z  2023-12-01T00:29:44.022Z  \n",
       "4    2023-12-01T00:48:53.744Z  2023-12-01T00:50:33.153Z  "
      ]
     },
     "execution_count": 20,
     "metadata": {},
     "output_type": "execute_result"
    }
   ],
   "source": [
    "df2.head()"
   ]
  },
  {
   "cell_type": "code",
   "execution_count": 21,
   "metadata": {},
   "outputs": [
    {
     "data": {
      "text/plain": [
       "Chat                19514\n",
       "Call                 8508\n",
       "public_live_Call        3\n",
       "Complementary           2\n",
       "Name: Activity, dtype: int64"
      ]
     },
     "execution_count": 21,
     "metadata": {},
     "output_type": "execute_result"
    }
   ],
   "source": [
    "Type = df2.Activity.value_counts()\n",
    "Type"
   ]
  },
  {
   "cell_type": "code",
   "execution_count": 22,
   "metadata": {},
   "outputs": [],
   "source": [
    "df2.drop(df2[df2['Activity'].isin(['public_live_Call', 'Complementary'])].index, inplace=True)"
   ]
  },
  {
   "cell_type": "code",
   "execution_count": 23,
   "metadata": {},
   "outputs": [
    {
     "name": "stdout",
     "output_type": "stream",
     "text": [
      "Activity\n",
      "Call    1.945297\n",
      "Chat    1.319145\n",
      "Name: TalkTime, dtype: float64\n"
     ]
    }
   ],
   "source": [
    "average_talktime = df2.groupby('Activity')['TalkTime'].mean()\n",
    "\n",
    "print(average_talktime)"
   ]
  },
  {
   "cell_type": "markdown",
   "metadata": {},
   "source": [
    "6. Determine the most common source of calls (Source column)"
   ]
  },
  {
   "cell_type": "code",
   "execution_count": 24,
   "metadata": {},
   "outputs": [
    {
     "name": "stdout",
     "output_type": "stream",
     "text": [
      "The most common source of calls is: Production\n"
     ]
    }
   ],
   "source": [
    "most_common_source = df2['source'].value_counts().idxmax()\n",
    "\n",
    "print(f\"The most common source of calls is: {most_common_source}\")"
   ]
  },
  {
   "cell_type": "markdown",
   "metadata": {},
   "source": [
    "7. Calculate the total earnings and spending for both users and masters."
   ]
  },
  {
   "cell_type": "code",
   "execution_count": 25,
   "metadata": {},
   "outputs": [
    {
     "data": {
      "text/html": [
       "<div>\n",
       "<style scoped>\n",
       "    .dataframe tbody tr th:only-of-type {\n",
       "        vertical-align: middle;\n",
       "    }\n",
       "\n",
       "    .dataframe tbody tr th {\n",
       "        vertical-align: top;\n",
       "    }\n",
       "\n",
       "    .dataframe thead th {\n",
       "        text-align: right;\n",
       "    }\n",
       "</style>\n",
       "<table border=\"1\" class=\"dataframe\">\n",
       "  <thead>\n",
       "    <tr style=\"text-align: right;\">\n",
       "      <th></th>\n",
       "      <th>chatStatus</th>\n",
       "      <th>guruName</th>\n",
       "      <th>gid</th>\n",
       "      <th>Activity</th>\n",
       "      <th>website</th>\n",
       "      <th>chatSeconds</th>\n",
       "      <th>TalkTime</th>\n",
       "      <th>Charge</th>\n",
       "      <th>mastersEarnings</th>\n",
       "      <th>userSpending</th>\n",
       "      <th>source</th>\n",
       "      <th>userCallStatus</th>\n",
       "      <th>createdAt</th>\n",
       "      <th>updatedAt</th>\n",
       "    </tr>\n",
       "  </thead>\n",
       "  <tbody>\n",
       "    <tr>\n",
       "      <th>0</th>\n",
       "      <td>incomplete</td>\n",
       "      <td>Astro  Sanjeev</td>\n",
       "      <td>95</td>\n",
       "      <td>Chat</td>\n",
       "      <td>gurucool</td>\n",
       "      <td>300.0</td>\n",
       "      <td>0.00875</td>\n",
       "      <td>0.0</td>\n",
       "      <td>0.0</td>\n",
       "      <td>0.0</td>\n",
       "      <td>NaN</td>\n",
       "      <td>NaN</td>\n",
       "      <td>2023-12-01T00:04:02.993Z</td>\n",
       "      <td>2023-12-01T00:07:33.833Z</td>\n",
       "    </tr>\n",
       "  </tbody>\n",
       "</table>\n",
       "</div>"
      ],
      "text/plain": [
       "   chatStatus        guruName  gid Activity   website  chatSeconds  TalkTime  \\\n",
       "0  incomplete  Astro  Sanjeev   95     Chat  gurucool        300.0   0.00875   \n",
       "\n",
       "   Charge  mastersEarnings  userSpending source userCallStatus  \\\n",
       "0     0.0              0.0           0.0    NaN            NaN   \n",
       "\n",
       "                    createdAt                 updatedAt  \n",
       "0   2023-12-01T00:04:02.993Z   2023-12-01T00:07:33.833Z  "
      ]
     },
     "execution_count": 25,
     "metadata": {},
     "output_type": "execute_result"
    }
   ],
   "source": [
    "new_column_names = {\n",
    "    'netAmount': 'userSpending',\n",
    "    'astrologersEarnings': 'mastersEarnings'\n",
    "}\n",
    "\n",
    "df2.rename(columns=new_column_names, inplace=True)\n",
    "df2.head(1)"
   ]
  },
  {
   "cell_type": "code",
   "execution_count": 26,
   "metadata": {},
   "outputs": [
    {
     "name": "stdout",
     "output_type": "stream",
     "text": [
      "Total User Spending: 213936.718333317\n",
      "Total Masters Earnings: 99138.081333273\n"
     ]
    }
   ],
   "source": [
    "total_user_spending = df2['userSpending'].sum()\n",
    "\n",
    "total_master_earnings = df2['mastersEarnings'].sum()\n",
    "\n",
    "print(f\"Total User Spending: {total_user_spending}\")\n",
    "print(f\"Total Masters Earnings: {total_master_earnings}\")\n"
   ]
  },
  {
   "cell_type": "markdown",
   "metadata": {},
   "source": [
    "8. Analyze the relationship between TalkTime and Charge."
   ]
  },
  {
   "cell_type": "code",
   "execution_count": 27,
   "metadata": {},
   "outputs": [
    {
     "data": {
      "image/png": "[encoded data removed]",
      "text/plain": [
       "<Figure size 720x432 with 1 Axes>"
      ]
     },
     "metadata": {},
     "output_type": "display_data"
    },
    {
     "name": "stdout",
     "output_type": "stream",
     "text": [
      "The correlation coefficient between TalkTime and Charge is: 0.60\n"
     ]
    }
   ],
   "source": [
    "from scipy.stats import pearsonr\n",
    "                   \n",
    "plt.figure(figsize=(10, 6))\n",
    "sns.scatterplot(x='TalkTime', y='Charge', data=df2)\n",
    "plt.title('Scatter Plot of TalkTime vs Charge')\n",
    "plt.xlabel('TalkTime')\n",
    "plt.ylabel('Charge')\n",
    "plt.show()\n",
    "\n",
    "correlation, _ = pearsonr(df2['TalkTime'],df2['Charge'])\n",
    "\n",
    "print(f\"The correlation coefficient between TalkTime and Charge is: {correlation:.2f}\")"
   ]
  },
  {
   "cell_type": "markdown",
   "metadata": {},
   "source": [
    "A correlation coefficient of 0.60 indicates a moderately strong positive linear relationship between TalkTime and Charge. This means that, generally, as TalkTime increases, the Charge tends to increase as well."
   ]
  },
  {
   "cell_type": "markdown",
   "metadata": {},
   "source": [
    "### Task 3: Call Handling Analysis"
   ]
  },
  {
   "cell_type": "markdown",
   "metadata": {},
   "source": [
    "9. Calculate the average time it takes for calls to be connected (ConnectTime - DialTime)."
   ]
  },
  {
   "cell_type": "code",
   "execution_count": 28,
   "metadata": {},
   "outputs": [
    {
     "data": {
      "text/html": [
       "<div>\n",
       "<style scoped>\n",
       "    .dataframe tbody tr th:only-of-type {\n",
       "        vertical-align: middle;\n",
       "    }\n",
       "\n",
       "    .dataframe tbody tr th {\n",
       "        vertical-align: top;\n",
       "    }\n",
       "\n",
       "    .dataframe thead th {\n",
       "        text-align: right;\n",
       "    }\n",
       "</style>\n",
       "<table border=\"1\" class=\"dataframe\">\n",
       "  <thead>\n",
       "    <tr style=\"text-align: right;\">\n",
       "      <th></th>\n",
       "      <th>chatStatus</th>\n",
       "      <th>guruName</th>\n",
       "      <th>gid</th>\n",
       "      <th>Activity</th>\n",
       "      <th>website</th>\n",
       "      <th>chatSeconds</th>\n",
       "      <th>TalkTime</th>\n",
       "      <th>Charge</th>\n",
       "      <th>mastersEarnings</th>\n",
       "      <th>userSpending</th>\n",
       "      <th>source</th>\n",
       "      <th>userCallStatus</th>\n",
       "      <th>createdAt</th>\n",
       "      <th>updatedAt</th>\n",
       "    </tr>\n",
       "  </thead>\n",
       "  <tbody>\n",
       "    <tr>\n",
       "      <th>0</th>\n",
       "      <td>incomplete</td>\n",
       "      <td>Astro  Sanjeev</td>\n",
       "      <td>95</td>\n",
       "      <td>Chat</td>\n",
       "      <td>gurucool</td>\n",
       "      <td>300.0</td>\n",
       "      <td>0.008750</td>\n",
       "      <td>0.0</td>\n",
       "      <td>0.0</td>\n",
       "      <td>0.0</td>\n",
       "      <td>NaN</td>\n",
       "      <td>NaN</td>\n",
       "      <td>2023-12-01T00:04:02.993Z</td>\n",
       "      <td>2023-12-01T00:07:33.833Z</td>\n",
       "    </tr>\n",
       "    <tr>\n",
       "      <th>1</th>\n",
       "      <td>incomplete</td>\n",
       "      <td>Astro  Sanjeev</td>\n",
       "      <td>95</td>\n",
       "      <td>Chat</td>\n",
       "      <td>gurucool</td>\n",
       "      <td>300.0</td>\n",
       "      <td>0.004067</td>\n",
       "      <td>0.0</td>\n",
       "      <td>0.0</td>\n",
       "      <td>0.0</td>\n",
       "      <td>NaN</td>\n",
       "      <td>NaN</td>\n",
       "      <td>2023-12-01T00:08:51.903Z</td>\n",
       "      <td>2023-12-01T00:09:56.111Z</td>\n",
       "    </tr>\n",
       "  </tbody>\n",
       "</table>\n",
       "</div>"
      ],
      "text/plain": [
       "   chatStatus        guruName  gid Activity   website  chatSeconds  TalkTime  \\\n",
       "0  incomplete  Astro  Sanjeev   95     Chat  gurucool        300.0  0.008750   \n",
       "1  incomplete  Astro  Sanjeev   95     Chat  gurucool        300.0  0.004067   \n",
       "\n",
       "   Charge  mastersEarnings  userSpending source userCallStatus  \\\n",
       "0     0.0              0.0           0.0    NaN            NaN   \n",
       "1     0.0              0.0           0.0    NaN            NaN   \n",
       "\n",
       "                    createdAt                 updatedAt  \n",
       "0   2023-12-01T00:04:02.993Z   2023-12-01T00:07:33.833Z  \n",
       "1    2023-12-01T00:08:51.903Z  2023-12-01T00:09:56.111Z  "
      ]
     },
     "execution_count": 28,
     "metadata": {},
     "output_type": "execute_result"
    }
   ],
   "source": [
    "df2.head(2)"
   ]
  },
  {
   "cell_type": "code",
   "execution_count": 29,
   "metadata": {},
   "outputs": [
    {
     "name": "stdout",
     "output_type": "stream",
     "text": [
      "Average time for calls to be connected: 0 days 00:56:39.057180822\n"
     ]
    }
   ],
   "source": [
    "df2['createdAt'] = pd.to_datetime(df2['createdAt'])\n",
    "df2['updatedAt'] = pd.to_datetime(df2['updatedAt'])\n",
    "\n",
    "df2['ConnectTime'] = df2['updatedAt'] - df2['createdAt']\n",
    "\n",
    "avg_connect_time = df2['ConnectTime'].mean()\n",
    "\n",
    "print(\"Average time for calls to be connected:\", avg_connect_time)\n"
   ]
  },
  {
   "cell_type": "markdown",
   "metadata": {},
   "source": [
    "10. Identify the most common reason for call disconnection (UnconnectTime - ConnectTime)."
   ]
  },
  {
   "cell_type": "code",
   "execution_count": 30,
   "metadata": {},
   "outputs": [
    {
     "data": {
      "text/plain": [
       "NaN          18679\n",
       "completed     7620\n",
       "canceled       992\n",
       "busy           439\n",
       "no-answer      206\n",
       "failed          86\n",
       "Name: userCallStatus, dtype: int64"
      ]
     },
     "execution_count": 30,
     "metadata": {},
     "output_type": "execute_result"
    }
   ],
   "source": [
    "reasons = df2.userCallStatus.value_counts()\n",
    "reasons"
   ]
  },
  {
   "cell_type": "markdown",
   "metadata": {},
   "source": [
    "As we can see the most common reason to for call disconnection is canceled call"
   ]
  },
  {
   "cell_type": "markdown",
   "metadata": {},
   "source": [
    "11. Analyze the HangUpTime patterns and identify any trends."
   ]
  },
  {
   "cell_type": "markdown",
   "metadata": {},
   "source": [
    "There is no specific data available that can help me to analyze the hangup time patterns"
   ]
  },
  {
   "cell_type": "markdown",
   "metadata": {},
   "source": [
    "### Task 4: Order and Refund Analysis"
   ]
  },
  {
   "cell_type": "markdown",
   "metadata": {},
   "source": [
    "12. Determine the order status distribution for calls."
   ]
  },
  {
   "cell_type": "code",
   "execution_count": 31,
   "metadata": {},
   "outputs": [
    {
     "data": {
      "text/plain": [
       "Chat    19514\n",
       "Call     8508\n",
       "Name: Activity, dtype: int64"
      ]
     },
     "execution_count": 31,
     "metadata": {},
     "output_type": "execute_result"
    }
   ],
   "source": [
    "Type = df2.Activity.value_counts()\n",
    "Type"
   ]
  },
  {
   "cell_type": "code",
   "execution_count": 32,
   "metadata": {},
   "outputs": [
    {
     "data": {
      "text/plain": [
       "<AxesSubplot:>"
      ]
     },
     "execution_count": 32,
     "metadata": {},
     "output_type": "execute_result"
    },
    {
     "data": {
      "image/png": "[encoded data removed]",
      "text/plain": [
       "<Figure size 432x288 with 1 Axes>"
      ]
     },
     "metadata": {},
     "output_type": "display_data"
    }
   ],
   "source": [
    "Type.plot(kind='barh')"
   ]
  },
  {
   "cell_type": "markdown",
   "metadata": {},
   "source": [
    "There are total 8508 order status distribution by calls."
   ]
  },
  {
   "cell_type": "markdown",
   "metadata": {},
   "source": [
    "13. Calculate the total refund amount and identify the refund status distribution."
   ]
  },
  {
   "cell_type": "markdown",
   "metadata": {},
   "source": [
    "As I checked On Excel sheet by filter tool there are only 5 Refund initiated and amount is encrypted by code so its not possible to identify total refund amount.\n"
   ]
  },
  {
   "cell_type": "markdown",
   "metadata": {},
   "source": [
    "### Task 5: Insights and Recommendations"
   ]
  },
  {
   "cell_type": "markdown",
   "metadata": {},
   "source": [
    "14. Based on your analysis, provide insights into call center performance and any actionable recommendations for improving call handling, user satisfaction, or earnings."
   ]
  },
  {
   "cell_type": "markdown",
   "metadata": {},
   "source": [
    "**The Good News:**\n",
    "\n",
    "* Customers are spending a good amount (₹213,936.72).\n",
    "\n",
    "**Insights:**\n",
    "\n",
    "* **Long Calls & Low Earnings:** Calls are long (1.5 hours) but charges are low (₹7.6). This suggests missed upselling opportunities or undercharging for complex calls. Analyze long calls and consider tiered pricing based on duration.\n",
    "* **High Connection Time:** It takes too long (56 minutes) to connect calls. This might be due to understaffing or inefficient routing. Invest in workforce management tools to optimize call distribution.\n",
    "* **Many Production Calls:** A high volume of calls come from the production department.  Improve communication or offer self-service options (FAQs, tutorials) to reduce these calls.\n",
    "\n",
    "**Recommendations:**\n",
    "\n",
    "* Train agents on upselling and handling complex calls efficiently.\n",
    "* Track long calls to understand reasons and missed opportunities.\n",
    "* Improve call center staffing or routing to reduce connection time.\n",
    "* Track customer satisfaction (surveys) to see if changes are working.).\n",
    "\n"
   ]
  },
  {
   "cell_type": "markdown",
   "metadata": {},
   "source": [
    "### Task 6: Data Visualization"
   ]
  },
  {
   "cell_type": "markdown",
   "metadata": {},
   "source": [
    "15. Create additional visualizations to showcase your data visualization skills"
   ]
  },
  {
   "cell_type": "code",
   "execution_count": 33,
   "metadata": {},
   "outputs": [
    {
     "data": {
      "text/html": [
       "<div>\n",
       "<style scoped>\n",
       "    .dataframe tbody tr th:only-of-type {\n",
       "        vertical-align: middle;\n",
       "    }\n",
       "\n",
       "    .dataframe tbody tr th {\n",
       "        vertical-align: top;\n",
       "    }\n",
       "\n",
       "    .dataframe thead th {\n",
       "        text-align: right;\n",
       "    }\n",
       "</style>\n",
       "<table border=\"1\" class=\"dataframe\">\n",
       "  <thead>\n",
       "    <tr style=\"text-align: right;\">\n",
       "      <th></th>\n",
       "      <th>chatStatus</th>\n",
       "      <th>guruName</th>\n",
       "      <th>gid</th>\n",
       "      <th>Activity</th>\n",
       "      <th>website</th>\n",
       "      <th>chatSeconds</th>\n",
       "      <th>TalkTime</th>\n",
       "      <th>Charge</th>\n",
       "      <th>mastersEarnings</th>\n",
       "      <th>userSpending</th>\n",
       "      <th>source</th>\n",
       "      <th>userCallStatus</th>\n",
       "      <th>createdAt</th>\n",
       "      <th>updatedAt</th>\n",
       "      <th>ConnectTime</th>\n",
       "    </tr>\n",
       "  </thead>\n",
       "  <tbody>\n",
       "    <tr>\n",
       "      <th>0</th>\n",
       "      <td>incomplete</td>\n",
       "      <td>Astro  Sanjeev</td>\n",
       "      <td>95</td>\n",
       "      <td>Chat</td>\n",
       "      <td>gurucool</td>\n",
       "      <td>300.0</td>\n",
       "      <td>0.008750</td>\n",
       "      <td>0.0</td>\n",
       "      <td>0.0</td>\n",
       "      <td>0.0</td>\n",
       "      <td>NaN</td>\n",
       "      <td>NaN</td>\n",
       "      <td>2023-12-01 00:04:02.993000+00:00</td>\n",
       "      <td>2023-12-01 00:07:33.833000+00:00</td>\n",
       "      <td>0 days 00:03:30.840000</td>\n",
       "    </tr>\n",
       "    <tr>\n",
       "      <th>1</th>\n",
       "      <td>incomplete</td>\n",
       "      <td>Astro  Sanjeev</td>\n",
       "      <td>95</td>\n",
       "      <td>Chat</td>\n",
       "      <td>gurucool</td>\n",
       "      <td>300.0</td>\n",
       "      <td>0.004067</td>\n",
       "      <td>0.0</td>\n",
       "      <td>0.0</td>\n",
       "      <td>0.0</td>\n",
       "      <td>NaN</td>\n",
       "      <td>NaN</td>\n",
       "      <td>2023-12-01 00:08:51.903000+00:00</td>\n",
       "      <td>2023-12-01 00:09:56.111000+00:00</td>\n",
       "      <td>0 days 00:01:04.208000</td>\n",
       "    </tr>\n",
       "  </tbody>\n",
       "</table>\n",
       "</div>"
      ],
      "text/plain": [
       "   chatStatus        guruName  gid Activity   website  chatSeconds  TalkTime  \\\n",
       "0  incomplete  Astro  Sanjeev   95     Chat  gurucool        300.0  0.008750   \n",
       "1  incomplete  Astro  Sanjeev   95     Chat  gurucool        300.0  0.004067   \n",
       "\n",
       "   Charge  mastersEarnings  userSpending source userCallStatus  \\\n",
       "0     0.0              0.0           0.0    NaN            NaN   \n",
       "1     0.0              0.0           0.0    NaN            NaN   \n",
       "\n",
       "                         createdAt                        updatedAt  \\\n",
       "0 2023-12-01 00:04:02.993000+00:00 2023-12-01 00:07:33.833000+00:00   \n",
       "1 2023-12-01 00:08:51.903000+00:00 2023-12-01 00:09:56.111000+00:00   \n",
       "\n",
       "             ConnectTime  \n",
       "0 0 days 00:03:30.840000  \n",
       "1 0 days 00:01:04.208000  "
      ]
     },
     "execution_count": 33,
     "metadata": {},
     "output_type": "execute_result"
    }
   ],
   "source": [
    "df2.head(2)"
   ]
  },
  {
   "cell_type": "code",
   "execution_count": 34,
   "metadata": {},
   "outputs": [
    {
     "data": {
      "text/plain": [
       "Astro Krishaa      1580\n",
       "Astro  Sakthi      1450\n",
       "Astro Shalini      1321\n",
       "Astro  Brejesh     1070\n",
       "Astro Divya        1056\n",
       "                   ... \n",
       "Astro Rohan  S        2\n",
       "Tarot  Mystical       2\n",
       "Tarot  Anshu          2\n",
       " Dr.  Pratibha        2\n",
       "Tarot Rittika         1\n",
       "Name: guruName, Length: 151, dtype: int64"
      ]
     },
     "execution_count": 34,
     "metadata": {},
     "output_type": "execute_result"
    }
   ],
   "source": [
    "Guru = df2.guruName.value_counts()\n",
    "Guru"
   ]
  },
  {
   "cell_type": "code",
   "execution_count": 35,
   "metadata": {},
   "outputs": [
    {
     "data": {
      "text/plain": [
       "<AxesSubplot:>"
      ]
     },
     "execution_count": 35,
     "metadata": {},
     "output_type": "execute_result"
    },
    {
     "data": {
      "image/png": "[encoded data removed]",
      "text/plain": [
       "<Figure size 432x288 with 1 Axes>"
      ]
     },
     "metadata": {},
     "output_type": "display_data"
    }
   ],
   "source": [
    "filtered_dataG = Guru[Guru > 500]\n",
    "filtered_dataG.plot(kind='barh')\n"
   ]
  },
  {
   "cell_type": "markdown",
   "metadata": {},
   "source": [
    "Astro Krishna is the top contributor for Astro Guruji with total of 1580 queries."
   ]
  },
  {
   "cell_type": "code",
   "execution_count": 36,
   "metadata": {},
   "outputs": [
    {
     "data": {
      "text/plain": [
       "incomplete    15148\n",
       "failed         7256\n",
       "completed      5535\n",
       "pending          48\n",
       "started          35\n",
       "Name: chatStatus, dtype: int64"
      ]
     },
     "execution_count": 36,
     "metadata": {},
     "output_type": "execute_result"
    }
   ],
   "source": [
    "Status = df2.chatStatus.value_counts()\n",
    "Status"
   ]
  },
  {
   "cell_type": "code",
   "execution_count": 37,
   "metadata": {},
   "outputs": [
    {
     "data": {
      "image/png": "[encoded data removed]",
      "text/plain": [
       "<Figure size 576x576 with 1 Axes>"
      ]
     },
     "metadata": {},
     "output_type": "display_data"
    }
   ],
   "source": [
    "data = {'Incomplete': 15148, 'Failed': 7256, 'Completed': 5535, 'Others': 83} #Others = Pending + Started \n",
    "labels = data.keys()\n",
    "sizes = data.values()\n",
    "\n",
    "plt.figure(figsize=(8, 8))\n",
    "plt.pie(sizes, labels=labels, autopct='%1.1f%%', startangle=120)\n",
    "plt.title('Chat Status Distribution')\n",
    "plt.show()"
   ]
  },
  {
   "cell_type": "markdown",
   "metadata": {},
   "source": [
    "Out of all the chats, more than half (54.1%) are incomplete, while about a quarter (25.9%) have failed. Only a small portion (19.8%) of chats are completed. "
   ]
  },
  {
   "cell_type": "code",
   "execution_count": 38,
   "metadata": {},
   "outputs": [
    {
     "data": {
      "text/plain": [
       "gurucool    20225\n",
       "app          7797\n",
       "Name: website, dtype: int64"
      ]
     },
     "execution_count": 38,
     "metadata": {},
     "output_type": "execute_result"
    }
   ],
   "source": [
    "Medium = df2.website.value_counts()\n",
    "Medium"
   ]
  },
  {
   "cell_type": "code",
   "execution_count": 39,
   "metadata": {},
   "outputs": [
    {
     "data": {
      "image/png": "[encoded data removed]",
      "text/plain": [
       "<Figure size 576x432 with 1 Axes>"
      ]
     },
     "metadata": {},
     "output_type": "display_data"
    }
   ],
   "source": [
    "labels = ['gurucool', 'app']\n",
    "sizes = [20225, 7797]\n",
    "\n",
    "plt.figure(figsize=(8, 6))\n",
    "plt.pie(sizes, labels=labels, autopct='%1.1f%%', startangle=140)\n",
    "plt.title('Distribution of website')\n",
    "plt.axis('equal')  \n",
    "plt.show()"
   ]
  },
  {
   "cell_type": "markdown",
   "metadata": {},
   "source": [
    "As we can see almost 3/4 traffic generate from the website of Astro Guruji and only 1/4 traffic generated by app."
   ]
  },
  {
   "cell_type": "markdown",
   "metadata": {},
   "source": [
    "16. Please create a line chart showing the trend in call charges over time."
   ]
  },
  {
   "cell_type": "code",
   "execution_count": 40,
   "metadata": {},
   "outputs": [
    {
     "data": {
      "text/html": [
       "<div>\n",
       "<style scoped>\n",
       "    .dataframe tbody tr th:only-of-type {\n",
       "        vertical-align: middle;\n",
       "    }\n",
       "\n",
       "    .dataframe tbody tr th {\n",
       "        vertical-align: top;\n",
       "    }\n",
       "\n",
       "    .dataframe thead th {\n",
       "        text-align: right;\n",
       "    }\n",
       "</style>\n",
       "<table border=\"1\" class=\"dataframe\">\n",
       "  <thead>\n",
       "    <tr style=\"text-align: right;\">\n",
       "      <th></th>\n",
       "      <th>chatStatus</th>\n",
       "      <th>guruName</th>\n",
       "      <th>gid</th>\n",
       "      <th>Activity</th>\n",
       "      <th>website</th>\n",
       "      <th>chatSeconds</th>\n",
       "      <th>TalkTime</th>\n",
       "      <th>Charge</th>\n",
       "      <th>mastersEarnings</th>\n",
       "      <th>userSpending</th>\n",
       "      <th>source</th>\n",
       "      <th>userCallStatus</th>\n",
       "      <th>createdAt</th>\n",
       "      <th>updatedAt</th>\n",
       "      <th>ConnectTime</th>\n",
       "      <th>Date</th>\n",
       "    </tr>\n",
       "  </thead>\n",
       "  <tbody>\n",
       "    <tr>\n",
       "      <th>0</th>\n",
       "      <td>incomplete</td>\n",
       "      <td>Astro  Sanjeev</td>\n",
       "      <td>95</td>\n",
       "      <td>Chat</td>\n",
       "      <td>gurucool</td>\n",
       "      <td>300.0</td>\n",
       "      <td>0.008750</td>\n",
       "      <td>0.0</td>\n",
       "      <td>0.0</td>\n",
       "      <td>0.0</td>\n",
       "      <td>NaN</td>\n",
       "      <td>NaN</td>\n",
       "      <td>2023-12-01 00:04:02.993000+00:00</td>\n",
       "      <td>2023-12-01 00:07:33.833000+00:00</td>\n",
       "      <td>0 days 00:03:30.840000</td>\n",
       "      <td>2023-12-01</td>\n",
       "    </tr>\n",
       "    <tr>\n",
       "      <th>1</th>\n",
       "      <td>incomplete</td>\n",
       "      <td>Astro  Sanjeev</td>\n",
       "      <td>95</td>\n",
       "      <td>Chat</td>\n",
       "      <td>gurucool</td>\n",
       "      <td>300.0</td>\n",
       "      <td>0.004067</td>\n",
       "      <td>0.0</td>\n",
       "      <td>0.0</td>\n",
       "      <td>0.0</td>\n",
       "      <td>NaN</td>\n",
       "      <td>NaN</td>\n",
       "      <td>2023-12-01 00:08:51.903000+00:00</td>\n",
       "      <td>2023-12-01 00:09:56.111000+00:00</td>\n",
       "      <td>0 days 00:01:04.208000</td>\n",
       "      <td>2023-12-01</td>\n",
       "    </tr>\n",
       "    <tr>\n",
       "      <th>2</th>\n",
       "      <td>incomplete</td>\n",
       "      <td>Astro  Sanjeev</td>\n",
       "      <td>95</td>\n",
       "      <td>Chat</td>\n",
       "      <td>gurucool</td>\n",
       "      <td>300.0</td>\n",
       "      <td>0.004217</td>\n",
       "      <td>0.0</td>\n",
       "      <td>0.0</td>\n",
       "      <td>0.0</td>\n",
       "      <td>NaN</td>\n",
       "      <td>NaN</td>\n",
       "      <td>2023-12-01 00:17:22.270000+00:00</td>\n",
       "      <td>2023-12-01 00:22:04.382000+00:00</td>\n",
       "      <td>0 days 00:04:42.112000</td>\n",
       "      <td>2023-12-01</td>\n",
       "    </tr>\n",
       "    <tr>\n",
       "      <th>3</th>\n",
       "      <td>incomplete</td>\n",
       "      <td>Astro  Sanjeev</td>\n",
       "      <td>95</td>\n",
       "      <td>Chat</td>\n",
       "      <td>gurucool</td>\n",
       "      <td>300.0</td>\n",
       "      <td>0.006733</td>\n",
       "      <td>0.0</td>\n",
       "      <td>0.0</td>\n",
       "      <td>0.0</td>\n",
       "      <td>NaN</td>\n",
       "      <td>NaN</td>\n",
       "      <td>2023-12-01 00:24:41.672000+00:00</td>\n",
       "      <td>2023-12-01 00:29:44.022000+00:00</td>\n",
       "      <td>0 days 00:05:02.350000</td>\n",
       "      <td>2023-12-01</td>\n",
       "    </tr>\n",
       "    <tr>\n",
       "      <th>4</th>\n",
       "      <td>failed</td>\n",
       "      <td>Astro  Sanjeev</td>\n",
       "      <td>95</td>\n",
       "      <td>Chat</td>\n",
       "      <td>gurucool</td>\n",
       "      <td>300.0</td>\n",
       "      <td>0.000000</td>\n",
       "      <td>0.0</td>\n",
       "      <td>0.0</td>\n",
       "      <td>0.0</td>\n",
       "      <td>NaN</td>\n",
       "      <td>NaN</td>\n",
       "      <td>2023-12-01 00:48:53.744000+00:00</td>\n",
       "      <td>2023-12-01 00:50:33.153000+00:00</td>\n",
       "      <td>0 days 00:01:39.409000</td>\n",
       "      <td>2023-12-01</td>\n",
       "    </tr>\n",
       "  </tbody>\n",
       "</table>\n",
       "</div>"
      ],
      "text/plain": [
       "   chatStatus        guruName  gid Activity   website  chatSeconds  TalkTime  \\\n",
       "0  incomplete  Astro  Sanjeev   95     Chat  gurucool        300.0  0.008750   \n",
       "1  incomplete  Astro  Sanjeev   95     Chat  gurucool        300.0  0.004067   \n",
       "2  incomplete  Astro  Sanjeev   95     Chat  gurucool        300.0  0.004217   \n",
       "3  incomplete  Astro  Sanjeev   95     Chat  gurucool        300.0  0.006733   \n",
       "4      failed  Astro  Sanjeev   95     Chat  gurucool        300.0  0.000000   \n",
       "\n",
       "   Charge  mastersEarnings  userSpending source userCallStatus  \\\n",
       "0     0.0              0.0           0.0    NaN            NaN   \n",
       "1     0.0              0.0           0.0    NaN            NaN   \n",
       "2     0.0              0.0           0.0    NaN            NaN   \n",
       "3     0.0              0.0           0.0    NaN            NaN   \n",
       "4     0.0              0.0           0.0    NaN            NaN   \n",
       "\n",
       "                         createdAt                        updatedAt  \\\n",
       "0 2023-12-01 00:04:02.993000+00:00 2023-12-01 00:07:33.833000+00:00   \n",
       "1 2023-12-01 00:08:51.903000+00:00 2023-12-01 00:09:56.111000+00:00   \n",
       "2 2023-12-01 00:17:22.270000+00:00 2023-12-01 00:22:04.382000+00:00   \n",
       "3 2023-12-01 00:24:41.672000+00:00 2023-12-01 00:29:44.022000+00:00   \n",
       "4 2023-12-01 00:48:53.744000+00:00 2023-12-01 00:50:33.153000+00:00   \n",
       "\n",
       "             ConnectTime        Date  \n",
       "0 0 days 00:03:30.840000  2023-12-01  \n",
       "1 0 days 00:01:04.208000  2023-12-01  \n",
       "2 0 days 00:04:42.112000  2023-12-01  \n",
       "3 0 days 00:05:02.350000  2023-12-01  \n",
       "4 0 days 00:01:39.409000  2023-12-01  "
      ]
     },
     "execution_count": 40,
     "metadata": {},
     "output_type": "execute_result"
    }
   ],
   "source": [
    "df2['Date'] = pd.to_datetime(df2['updatedAt']).dt.date\n",
    "\n",
    "df2.head()\n"
   ]
  },
  {
   "cell_type": "code",
   "execution_count": 41,
   "metadata": {},
   "outputs": [
    {
     "data": {
      "image/png": "[encoded data removed]",
      "text/plain": [
       "<Figure size 720x432 with 1 Axes>"
      ]
     },
     "metadata": {},
     "output_type": "display_data"
    }
   ],
   "source": [
    "grouped_data = df2.groupby('Date')['Charge'].sum()\n",
    "\n",
    "plt.figure(figsize=(10, 6))\n",
    "plt.plot(grouped_data.index, grouped_data.values, marker='o')\n",
    "plt.xlabel('Time')\n",
    "plt.ylabel('Total Charge')\n",
    "plt.title('Trend in call charges over time')\n",
    "plt.xticks(rotation=45)\n",
    "plt.grid(True)\n",
    "plt.tight_layout()\n",
    "plt.show()"
   ]
  },
  {
   "cell_type": "markdown",
   "metadata": {},
   "source": [
    "17. Create a scatter plot to analyze the relationship between TalkTime and UserSpend."
   ]
  },
  {
   "cell_type": "code",
   "execution_count": 42,
   "metadata": {},
   "outputs": [
    {
     "data": {
      "image/png": "[encoded data removed]",
      "text/plain": [
       "<Figure size 576x432 with 1 Axes>"
      ]
     },
     "metadata": {},
     "output_type": "display_data"
    }
   ],
   "source": [
    "plt.figure(figsize=(8, 6))\n",
    "plt.scatter(df2['TalkTime'], df2['userSpending'], alpha=0.5)\n",
    "plt.xlabel('Talk Time')\n",
    "plt.ylabel('User Spending')\n",
    "plt.title('Scatter Plot: Talk Time vs. User Spending')\n",
    "plt.grid(True)\n",
    "plt.tight_layout()\n",
    "plt.show()\n"
   ]
  },
  {
   "cell_type": "markdown",
   "metadata": {},
   "source": [
    "### Task 7: Interpretation"
   ]
  },
  {
   "cell_type": "markdown",
   "metadata": {},
   "source": [
    "18. What insights can you draw from the histogram of call charges?"
   ]
  },
  {
   "cell_type": "markdown",
   "metadata": {},
   "source": [
    "Its a right skewed distribution where more than 90% data lies on left side. This histogram shows that most users have charges that are less than 250 Indian Rupees. This suggests that the majority of users are spending relatively smaller amounts on the service or product being charged for."
   ]
  },
  {
   "cell_type": "markdown",
   "metadata": {},
   "source": [
    "19. Based on the line chart, do you see any seasonal patterns in call charges?"
   ]
  },
  {
   "cell_type": "markdown",
   "metadata": {},
   "source": [
    "Yes, there is a hike in total charges value between 12 December to 21 December of the months that suggest that users spends more in middle of the month. This also can help us in the marketing strategy at what time company should run more ad campaign. As result, we can suggest to our marketing team to target more customers in middle of the month."
   ]
  },
  {
   "cell_type": "markdown",
   "metadata": {},
   "source": [
    "20. What does the scatter plot tell us about the relationship between TalkTime and UserSpend?"
   ]
  },
  {
   "cell_type": "markdown",
   "metadata": {},
   "source": [
    "It suggest positive correlation between TalkTime and UserSpend. This means that, generally, as TalkTime increases the UserSpend increase as well. Also there are some outliers with spending of 1500 and 1750 with less talk time. We can take these examples in positive manner So, We can use similar strategy with other user to increase customer experience and company revenue."
   ]
  }
 ],
 "metadata": {
  "kernelspec": {
   "display_name": "Python 3",
   "language": "python",
   "name": "python3"
  },
  "language_info": {
   "codemirror_mode": {
    "name": "ipython",
    "version": 3
   },
   "file_extension": ".py",
   "mimetype": "text/x-python",
   "name": "python",
   "nbconvert_exporter": "python",
   "pygments_lexer": "ipython3",
   "version": "3.9.12"
  }
 },
 "nbformat": 4,
 "nbformat_minor": 2
}
